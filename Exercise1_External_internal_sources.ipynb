{
 "cells": [
  {
   "cell_type": "markdown",
   "metadata": {},
   "source": [
    "# External and internal sources\n",
    "This exercise is inspired by [Clauser *Einführung in die Geophysik](https://www.springer.com/de/book/9783662468838) and [Turcotte and Schubert *Geodynamics*](https://www.cambridge.org/de/academic/subjects/earth-and-environmental-science/structural-geology-tectonics-and-geodynamics/geodynamics-3rd-edition?format=PB&isbn=9780521186230). \n",
    "\n",
    "In the lecture, we talked about external and internal heat sources of the Earth. The main external heat source is solar irradiation, one significant internal source heat generation by the decay of radioactive elements. \n",
    "\n",
    "## Contents\n",
    "[1. External source: Equilibrium temperature](#eqtemp)  \n",
    "[2. Internal source: radiogenic heat generation](#radheat)"
   ]
  },
  {
   "cell_type": "markdown",
   "metadata": {},
   "source": [
    "<a id=\"eqtemp\"></a>\n",
    "## External source: Equilibrium temperature\n",
    "\n",
    "For assessing an equilibrium temperature at the Earth's surface, incoming radiation has to be equal to outgoing radiation. \n",
    "In the lecture, we talked about the incoming thermal power Earth receives from the sun, and also the power emitted by Earth as long-wavelength thermal radiation. Earth receives a radiation density equal to the solar constant of $S = 1361 W m^{-2}$. \n",
    "Consider a terrestrial Albedo of 30 % for the incoming radiation.  \n",
    "\n",
    "<div class=\"alert alert-info\">Task:  \n",
    "Use the Stefan Boltzmann law $\\boldsymbol q = \\sigma T^4$ (with $\\sigma = 5.567 \\times 10^{-8}$ W m$^{-2}$ K$^{-4}$) for calculating an equilibrium temperature for the Earth's surface, i.e. $\\boldsymbol q_{in} = \\boldsymbol q_{out}$   \n",
    "\n",
    "When setting up the equilibrium equation, remember the surfaces over which Earth receives and emits radiation.   \n",
    "\n",
    "</div>"
   ]
  },
  {
   "cell_type": "code",
   "execution_count": 2,
   "metadata": {},
   "outputs": [],
   "source": [
    "# import libraries\n",
    "import numpy as np\n",
    "import matplotlib.pyplot as plt\n",
    "%matplotlib inline"
   ]
  },
  {
   "cell_type": "code",
   "execution_count": 1,
   "metadata": {},
   "outputs": [],
   "source": [
    "# define parameters\n"
   ]
  },
  {
   "cell_type": "code",
   "execution_count": 2,
   "metadata": {},
   "outputs": [],
   "source": [
    "# solve equation\n"
   ]
  },
  {
   "cell_type": "markdown",
   "metadata": {},
   "source": [
    "<div class=\"alert alert-info\">\n",
    "Is the resulting temperature really equal to the real surface temperature?  \n",
    "</div>"
   ]
  },
  {
   "cell_type": "markdown",
   "metadata": {},
   "source": []
  },
  {
   "cell_type": "markdown",
   "metadata": {},
   "source": [
    "<a id=\"radheat\"></a>\n",
    "## Internal source: Heat generation in the past\n",
    "One main contributor to the internal heat sources of the earth is heat generation by radioactive decay. In the past, the mean mantle heat production was significantly higher, simply because more radioactive material was present. Values for the table below are from Table 4-2 in [Turcotte and Schubert *Geodynamics*](https://www.cambridge.org/de/academic/subjects/earth-and-environmental-science/structural-geology-tectonics-and-geodynamics/geodynamics-3rd-edition?format=PB&isbn=9780521186230).\n",
    "\n",
    "| Isotope | H ($10^{-5}$ W/kg)   | t$_{1/2}$ ($10^9$yr) | C ($10^{-9}$kg/kg)   |\n",
    "|------|------|------|------|\n",
    "|   $^{238}$U  | 9.46  |  4.47  | 30.8|\n",
    "|   $^{235}$U  | 56.9|   0.704  | 0.22|\n",
    "|   $^{232}$Th  | 2.64|   14  | 124|\n",
    "|   $^{40}$K  | 2.92|   1.25  | 36.9|\n",
    "\n",
    "The concentration $C$ of a radioactive material with a half-life $t_{1/2}$ at a certain time $t$ in the past can be assessed with by \n",
    "\n",
    "$$C = C_0 exp\\bigg(\\frac{t \\times ln2}{t_{1/2}}\\bigg) $$  \n",
    "Multiplying this concentration with the current heat production rate $H$ then yields the corresponding production rate in the past.\n",
    "\n",
    "<div class=\"alert alert-info\">Task:  \n",
    "Create a plot with the past mean mantle heat production rates for each isotope and the cummulative total heat production for the last 4.6 Billion years. \n",
    "</div>"
   ]
  },
  {
   "cell_type": "code",
   "execution_count": 3,
   "metadata": {},
   "outputs": [],
   "source": [
    "# define parameters"
   ]
  },
  {
   "cell_type": "code",
   "execution_count": 4,
   "metadata": {},
   "outputs": [],
   "source": [
    "# calculate H"
   ]
  },
  {
   "cell_type": "code",
   "execution_count": 5,
   "metadata": {},
   "outputs": [],
   "source": [
    "# plot"
   ]
  }
 ],
 "metadata": {
  "kernelspec": {
   "display_name": "Python 3",
   "language": "python",
   "name": "python3"
  },
  "language_info": {
   "codemirror_mode": {
    "name": "ipython",
    "version": 3
   },
   "file_extension": ".py",
   "mimetype": "text/x-python",
   "name": "python",
   "nbconvert_exporter": "python",
   "pygments_lexer": "ipython3",
   "version": "3.6.5"
  }
 },
 "nbformat": 4,
 "nbformat_minor": 2
}

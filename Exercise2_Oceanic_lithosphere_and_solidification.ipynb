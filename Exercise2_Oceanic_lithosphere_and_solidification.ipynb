{
 "cells": [
  {
   "cell_type": "markdown",
   "metadata": {},
   "source": [
    "# Geothermics Exercises\n",
    "These exercises are inspired by [Turcotte and Schubert *Geodynamics*](https://www.cambridge.org/de/academic/subjects/earth-and-environmental-science/structural-geology-tectonics-and-geodynamics/geodynamics-3rd-edition?format=PB&isbn=9780521186230) and [Beardsmore *Crustal Heat Flow*](https://www.cambridge.org/core/books/crustal-heat-%20flow/90C25BAC9C22E55B59D1261CFB49946C). They are intended to be used in the Geothermics exercises and to substitute some of the older exercises.  \n",
    "\n",
    "1. [#Increase in oceanic lithosphere thickness with time](#litho)\n",
    "2. [Solidification of a magma lake](#solid)"
   ]
  },
  {
   "cell_type": "markdown",
   "metadata": {},
   "source": [
    "<a id=\"litho\"></a>\n",
    "## 1. Heating of Cooling of a Semi-Infinite Half-Space\n",
    "In the previous exercise, we learned about Lord Kelvin's approach to assess the age of the Earth by assuming the solution of a cooling semi-infinite half-space. Basically, he assumed that the specific heat flow at the surface is the result of a cooling process from below. In the beginning, he assumed, Earth had the same hot temperature which is still present at its core.  \n",
    "As we saw in the exercise, his approach is flawed because he did not consider / did not know about concepts like radiogenic heat generation in the mantle or thermal convection (solid-state) in the mantle.   \n",
    "\n",
    "$$ \\frac{\\partial T}{\\partial t} = \\kappa \\frac{\\partial^2 T}{\\partial x^2} $$\n",
    "\n",
    "Nonetheless, this solution can also be used for determining the thermal structure of oceanig lithosphere. At a MOR (Mid Ocean Ridge), new hot crust is exposed to cold sea water. With time and seafloor spreading, rocks near the interface between seafloor and water cool down and lose their heat to the water. "
   ]
  },
  {
   "cell_type": "markdown",
   "metadata": {},
   "source": [
    "In a semi-infinite half-space defined with x > 0, we can obtain the solution to the scenario above by solving the equation above. At t=0, the lithosphere (half-space) has its original temperature $T_0$. Now, at the interface to the water (the *surface*), the temperature changes to a lower temperature $T_1$ at times $t > 0$. That causes a cooling from above, i.e. heat flowing upwards towards the surface.  \n",
    "\n",
    "One can change the equation above for including the different temperatures by introducing a dimensionless time $\\Theta$ using the concept of *similarity*.  \n",
    "\n",
    "$$\\Theta = \\frac{T - T_0}{T_1 - T_0} $$  \n",
    "$$ \\frac{\\partial \\Theta}{\\partial t} = \\kappa \\frac{\\partial^2 \\Theta}{\\partial x^2} $$  \n",
    "With the conditions $\\Theta(x,0) = 0$, $\\Theta(0,t) = 1$, $\\Theta(\\infty,t) = 0$."
   ]
  },
  {
   "cell_type": "markdown",
   "metadata": {},
   "source": [
    "As stated above, the half-space solution can be used to model the cooling of oceanic lithosphere. The bottom of said lithosphere, which is moving horizontally with a velocity $v$ above the mantle, can be seen as an isotherm. So, the lithosphere is a package, moving relative to the mantle, and bounded by the surface (seafloor), and an isotherm (around 1600 K). The lithosphere thickens over time, so the isothermal boundary at its bottom will be deeper the older the lithosphere is. Due to the seafloor spreading at a MOR, age is also a function of velocity. With a constant spreading-velocity, the lithosphere at a distance $x$ to the MOR can be considered Y years old.  \n",
    "\n",
    "The cooling / thickening of the lithosphere can be described as an equation similar to the one in Kelvin's exercise:  \n",
    "$$ t = x v^{-1} $$\n",
    "$$\\Theta = erf\\bigg(\\frac{y}{2\\sqrt{\\kappa x v^{-1}}}\\bigg)$$  \n",
    "\n",
    "<div class=\"alert alert-info\"> **Task:**  \n",
    "Re-arrange the equation above to come up with a formulation of `y` (the depth, thickness of the oceanic lithosphere).  \n",
    "Use the obtained equation to calculate and plot the age dependent thickness of oceanic lithosphere (so `y`) for the following parameters (i.e. plot isotherms):  \n",
    "T_0 = 277.15 K  \n",
    "T_1 = 1600 K  \n",
    "T = 600 K - 1400 K  in steps of 200 K  \n",
    "$\\kappa$ = 1.2 mm² s$^{-1}$  \n",
    "t = 0 Myr to 150 Myr  \n",
    "\n",
    "</div>\n",
    "\n",
    "The error function can be used as a function in `scipy.special`."
   ]
  },
  {
   "cell_type": "code",
   "execution_count": 1,
   "metadata": {},
   "outputs": [],
   "source": [
    "# used libraries\n",
    "import numpy as np\n",
    "import matplotlib.pyplot as plt \n",
    "%matplotlib inline\n",
    "from scipy.special import erf, erfinv"
   ]
  },
  {
   "cell_type": "code",
   "execution_count": 146,
   "metadata": {},
   "outputs": [],
   "source": [
    "# define the parameters"
   ]
  },
  {
   "cell_type": "code",
   "execution_count": 147,
   "metadata": {},
   "outputs": [],
   "source": [
    "# solve the re-arranged equation"
   ]
  },
  {
   "cell_type": "code",
   "execution_count": 2,
   "metadata": {},
   "outputs": [],
   "source": [
    "# plot the result"
   ]
  },
  {
   "cell_type": "markdown",
   "metadata": {},
   "source": [
    "<a id='solid'></a>\n",
    "## 2. Cooling and Solidification of a lava lake\n",
    "Assume a lava lake on the infant moon which formed by a collision of a mars sized body with the proto-earth. Assume that the moon was covered by a lava sea of about 50 km depth. Its initial temperature was at 1500 K with a surface temperature of 500 K.   \n",
    "A solidification boundary $y_m$ can be determined by   \n",
    "\n",
    "$$ y_m = 2 \\xi \\sqrt{\\kappa t} $$  \n",
    "\n",
    "To obtain $\\xi$, we have to iteratively solve   \n",
    "\n",
    "$$\\frac{L\\sqrt{\\pi}}{c(T_m - T_0)} = \\frac{e^{-\\xi^2}}{\\lambda_1 erf\\xi} $$  \n",
    "\n",
    "<div class=\"alert alert-info\">**Task:**  \n",
    "Take the following values for the left side of the second equation to obtain a value for lambda:  </div>\n",
    "* L = 320 kJ kg$^{-1}$  \n",
    "* $\\kappa$ = 1e-6 m² s$^{-1}$  \n",
    "* c = 1 kJ kg$^{-1}$ K$^{-1}$ \n",
    "* T$_0$ = 500 K  \n",
    "* T$_m$ = 1500 K"
   ]
  },
  {
   "cell_type": "code",
   "execution_count": 3,
   "metadata": {},
   "outputs": [],
   "source": [
    "# set up values and calculate left side of the equation"
   ]
  },
  {
   "cell_type": "markdown",
   "metadata": {},
   "source": [
    "<div class=\"alert alert-info\">**Task:**  \n",
    "Once you have obtained a value for the left side, iteratively solve the right side of the equation with different $\\xi$. Find the value for $\\xi$ which yields a result equal to the previous left side of the equation (an accuracy of 4 decimals is enough). </div>"
   ]
  },
  {
   "cell_type": "code",
   "execution_count": 4,
   "metadata": {},
   "outputs": [],
   "source": [
    "# lambdas\n",
    "xi = np.linspace(0.01, 1.6, 10000)\n",
    "\n",
    "# calc rightside for the different lambdas"
   ]
  },
  {
   "cell_type": "code",
   "execution_count": 5,
   "metadata": {},
   "outputs": [],
   "source": [
    "# plot the right side of the equation vs. the different lambdas\n"
   ]
  },
  {
   "cell_type": "code",
   "execution_count": 6,
   "metadata": {},
   "outputs": [],
   "source": [
    "# find the value for lambda which is approximately equal to the left side of the equation"
   ]
  },
  {
   "cell_type": "markdown",
   "metadata": {},
   "source": [
    "<div class=\"alert alert-info\">**Task:**  \n",
    "Assuming a depth $y_m$ of 50 km for the lake, and we want to know the duration for the lake to fully solidify, we have to take the first equation with the obtained value for $\\xi$ and re-arrange for t.  \n",
    "$$ y_m = 2 \\xi \\sqrt{\\kappa t} $$   \n",
    "\n",
    "Once you come up with a formulation for t, plug in the numbers and calculate the time the lava lake would need to solidify. </div>"
   ]
  },
  {
   "cell_type": "code",
   "execution_count": 7,
   "metadata": {},
   "outputs": [],
   "source": [
    "# calculate the time"
   ]
  }
 ],
 "metadata": {
  "hide_input": false,
  "kernelspec": {
   "display_name": "Python 3",
   "language": "python",
   "name": "python3"
  },
  "language_info": {
   "codemirror_mode": {
    "name": "ipython",
    "version": 3
   },
   "file_extension": ".py",
   "mimetype": "text/x-python",
   "name": "python",
   "nbconvert_exporter": "python",
   "pygments_lexer": "ipython3",
   "version": "3.6.1"
  },
  "toc": {
   "base_numbering": 1,
   "nav_menu": {},
   "number_sections": false,
   "sideBar": true,
   "skip_h1_title": false,
   "title_cell": "Table of Contents",
   "title_sidebar": "Contents",
   "toc_cell": false,
   "toc_position": {},
   "toc_section_display": true,
   "toc_window_display": false
  },
  "varInspector": {
   "cols": {
    "lenName": 16,
    "lenType": 16,
    "lenVar": 40
   },
   "kernels_config": {
    "python": {
     "delete_cmd_postfix": "",
     "delete_cmd_prefix": "del ",
     "library": "var_list.py",
     "varRefreshCmd": "print(var_dic_list())"
    },
    "r": {
     "delete_cmd_postfix": ") ",
     "delete_cmd_prefix": "rm(",
     "library": "var_list.r",
     "varRefreshCmd": "cat(var_dic_list()) "
    }
   },
   "types_to_exclude": [
    "module",
    "function",
    "builtin_function_or_method",
    "instance",
    "_Feature"
   ],
   "window_display": false
  }
 },
 "nbformat": 4,
 "nbformat_minor": 2
}

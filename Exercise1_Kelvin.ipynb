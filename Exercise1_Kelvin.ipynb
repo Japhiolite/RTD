{
 "cells": [
  {
   "cell_type": "markdown",
   "metadata": {},
   "source": [
    "# Lord Kelvin and the age of the Earth  \n",
    "In an attempt to verify his theory that the Earth has not been around forever, William Thomson (that is the birth-name of Lord Kelvin) used the principles of heat transfer for calculating a likely age of the Earth.  \n",
    "He opposed many geologists of his time by criticizing their approach to dating (i.e. relative dating).  \n",
    "\n",
    "Knowing that the temperature in the Earth increases with depth, he concluded that the Earth cools with time. He assumed that originally, Earth had an initial temperature which is still present at the Earth's center. If one knew the rate at which Earth cools and the approximate temperature at its core, one would be able to determine its age.  \n",
    "This mechanism can be described by the heat diffusion equation:  \n",
    "$$ \\frac{\\partial T}{\\partial t} = \\kappa \\frac{\\partial^2 T}{\\partial x^2} $$  \n",
    "\n",
    "The temperature at a depth $z$ at a certain time $t$ can be approximated by:  \n",
    "\n",
    "$$T(z,t) = T_{init} erf\\bigg(\\frac{z}{\\sqrt{4 \\kappa t}}\\bigg) $$ \n",
    "\n",
    "The corresponding temperature gradient can be calculated by:  \n",
    "\n",
    "$$\\bigg(\\frac{\\partial T}{\\partial z}(z,t)\\bigg) = \\frac{T_{init}}{\\sqrt{\\pi \\kappa t}} e^{-z^2/(4 \\kappa t)} $$\n",
    "\n",
    "Given parameters:  \n",
    "* $T_{init}$ = 4200 °C (estimated initial temperature)  \n",
    "* $\\bigg(\\frac{\\partial T}{\\partial z}(z,t)\\bigg)$ = 36.5 K km$^{-1}$ (measured in coal mines)  \n",
    "* $\\kappa$ = 1.2 10$^{-6}$ m² s$^{-1}$  \n",
    "* $t$ = 100 Million years\n",
    "\n",
    "<div class=\"alert alert-info\">**Task:**  \n",
    "With these four given parameters, generate two plots:  \n",
    "1. Plot the temperature versus a relevant depth (how deep would this cooling signal be?) assuming the age estimate of 100 Million years  \n",
    "2. Plot the temperature gradient versus depth from the analysis in the mines  \n",
    "3. Using the measured temperature gradient in the mines (which we can approximate as a measurement at the Earth's **surface**), re-arrange the gradient equation to calculate an age $t$ based on the measured gradient.  \n",
    "</div>"
   ]
  },
  {
   "cell_type": "code",
   "execution_count": 1,
   "metadata": {},
   "outputs": [],
   "source": [
    "# import necessary libraries\n",
    "import numpy as np\n",
    "import matplotlib.pyplot as plt\n",
    "from scipy.special import erf\n",
    "%matplotlib inline"
   ]
  },
  {
   "cell_type": "code",
   "execution_count": 4,
   "metadata": {},
   "outputs": [],
   "source": [
    "# define parameters (take care with the correct units!)"
   ]
  },
  {
   "cell_type": "code",
   "execution_count": 5,
   "metadata": {},
   "outputs": [],
   "source": [
    "# calculate temperature at depth"
   ]
  },
  {
   "cell_type": "code",
   "execution_count": 1,
   "metadata": {
    "scrolled": true
   },
   "outputs": [],
   "source": [
    "# plot the temperature profile"
   ]
  },
  {
   "cell_type": "code",
   "execution_count": 2,
   "metadata": {
    "scrolled": true
   },
   "outputs": [],
   "source": [
    "# calculate temperature gradient and plot the gradient profile"
   ]
  },
  {
   "cell_type": "code",
   "execution_count": 3,
   "metadata": {},
   "outputs": [],
   "source": [
    "# try to put both in one plot similar to Kelvin"
   ]
  },
  {
   "cell_type": "code",
   "execution_count": 4,
   "metadata": {},
   "outputs": [],
   "source": [
    "# calculate the age t from the gradient equation using the gradient measured at the surface"
   ]
  }
 ],
 "metadata": {
  "hide_input": false,
  "kernelspec": {
   "display_name": "Python 3",
   "language": "python",
   "name": "python3"
  },
  "language_info": {
   "codemirror_mode": {
    "name": "ipython",
    "version": 3
   },
   "file_extension": ".py",
   "mimetype": "text/x-python",
   "name": "python",
   "nbconvert_exporter": "python",
   "pygments_lexer": "ipython3",
   "version": "3.6.1"
  },
  "toc": {
   "base_numbering": 1,
   "nav_menu": {},
   "number_sections": false,
   "sideBar": true,
   "skip_h1_title": false,
   "title_cell": "Table of Contents",
   "title_sidebar": "Contents",
   "toc_cell": false,
   "toc_position": {},
   "toc_section_display": true,
   "toc_window_display": false
  },
  "varInspector": {
   "cols": {
    "lenName": 16,
    "lenType": 16,
    "lenVar": 40
   },
   "kernels_config": {
    "python": {
     "delete_cmd_postfix": "",
     "delete_cmd_prefix": "del ",
     "library": "var_list.py",
     "varRefreshCmd": "print(var_dic_list())"
    },
    "r": {
     "delete_cmd_postfix": ") ",
     "delete_cmd_prefix": "rm(",
     "library": "var_list.r",
     "varRefreshCmd": "cat(var_dic_list()) "
    }
   },
   "types_to_exclude": [
    "module",
    "function",
    "builtin_function_or_method",
    "instance",
    "_Feature"
   ],
   "window_display": false
  }
 },
 "nbformat": 4,
 "nbformat_minor": 2
}
